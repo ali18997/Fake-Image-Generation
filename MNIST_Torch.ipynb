{
  "nbformat": 4,
  "nbformat_minor": 0,
  "metadata": {
    "colab": {
      "name": "MNIST_Torch.ipynb",
      "provenance": []
    },
    "kernelspec": {
      "name": "python3",
      "display_name": "Python 3"
    }
  },
  "cells": [
    {
      "cell_type": "code",
      "metadata": {
        "id": "Wogv6izIE582",
        "colab_type": "code",
        "colab": {}
      },
      "source": [
        "import torch, torchvision\n",
        "from torch import nn,optim"
      ],
      "execution_count": 3,
      "outputs": []
    },
    {
      "cell_type": "code",
      "metadata": {
        "id": "-K7_C-xVGpDA",
        "colab_type": "code",
        "colab": {}
      },
      "source": [
        "n_batch = 64"
      ],
      "execution_count": 5,
      "outputs": []
    },
    {
      "cell_type": "code",
      "metadata": {
        "id": "q6WBzoMBFap9",
        "colab_type": "code",
        "colab": {}
      },
      "source": [
        "#### Part I : Loading Your Data\n",
        "\n",
        "T = torchvision.transforms.ToTensor()\n",
        "train_data = torchvision.datasets.MNIST('mnist_data',train=True,download=True,transform=T)\n",
        "val_data = torchvision.datasets.MNIST('mnist_data',train=False,download=True,transform=T)\n",
        "\n",
        "train_dl = torch.utils.data.DataLoader(train_data,batch_size = n_batch)\n",
        "\n",
        "val_dl = torch.utils.data.DataLoader(val_data,batch_size = n_batch)\n",
        "\n"
      ],
      "execution_count": 8,
      "outputs": []
    },
    {
      "cell_type": "code",
      "metadata": {
        "id": "0dOpVlfVHTLZ",
        "colab_type": "code",
        "colab": {}
      },
      "source": [
        "#### Part II : Writing the Network\n",
        "\n",
        "class myCNN(nn.module)"
      ],
      "execution_count": null,
      "outputs": []
    },
    {
      "cell_type": "code",
      "metadata": {
        "id": "5o7d1_69HX3h",
        "colab_type": "code",
        "colab": {
          "base_uri": "https://localhost:8080/",
          "height": 35
        },
        "outputId": "456a3551-ae6e-4db9-aad6-06334ee05b4e"
      },
      "source": [
        "#### Part III: Writing the main Training loop\n",
        "\n",
        "for i, (images,labels) in enumerate(train_dl): \n",
        "  print(images.size())\n",
        "  break"
      ],
      "execution_count": 10,
      "outputs": [
        {
          "output_type": "stream",
          "text": [
            "torch.Size([64, 1, 28, 28])\n"
          ],
          "name": "stdout"
        }
      ]
    }
  ]
}